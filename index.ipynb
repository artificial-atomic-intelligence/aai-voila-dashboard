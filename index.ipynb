{
 "cells": [
  {
   "cell_type": "code",
   "execution_count": null,
   "metadata": {},
   "outputs": [],
   "source": [
    "%matplotlib widget"
   ]
  },
  {
   "cell_type": "code",
   "execution_count": null,
   "metadata": {},
   "outputs": [],
   "source": [
    "import matplotlib.pyplot as plt\n",
    "import os\n",
    "import numpy as np\n",
    "from glob import glob\n",
    "import json\n",
    "import pathlib\n",
    "\n",
    "import plotly.graph_objects as go\n",
    "import numpy as np\n",
    "from traitlets import dlink\n",
    "import ipywidgets as widgets\n",
    "from IPython.display import display, Image\n",
    "from io import StringIO\n",
    "\n",
    "from ipyfilechooser import FileChooser\n",
    "\n",
    "from skimage.measure import label, regionprops, regionprops_table\n",
    "\n",
    "from aai.io import dm3_lib as dm3\n",
    "from aai.io import tem\n",
    "from aai.image_segment import binary_segment\n",
    "from aai.io import dm3_lib as dm3\n",
    "from aai.io import tem\n",
    "from aai.image_segment import binary_segment"
   ]
  },
  {
   "cell_type": "code",
   "execution_count": null,
   "metadata": {},
   "outputs": [],
   "source": [
    "Image('dashboard.png', width=256, height=256)"
   ]
  },
  {
   "cell_type": "markdown",
   "metadata": {},
   "source": [
    "# TEM Image Segmentation and Analysis\n",
    "This notebook shows how to upload `.dm3` files of TEM images and analyze them."
   ]
  },
  {
   "cell_type": "markdown",
   "metadata": {},
   "source": [
    "- [1 Load data](#1-Load-data)\n",
    "- [2 Analysis](#2-Analysis)\n",
    "- [3 Modeling](#3-Modeling)\n",
    "- [4 Results](#4-Results)"
   ]
  },
  {
   "cell_type": "markdown",
   "metadata": {},
   "source": [
    "## 1 Load data"
   ]
  },
  {
   "cell_type": "code",
   "execution_count": null,
   "metadata": {},
   "outputs": [],
   "source": [
    "fc = FileChooser()\n",
    "fc.use_dir_icons = True\n",
    "out_pl = widgets.Output()\n",
    "lbl_img = widgets.Label()\n",
    "\n",
    "plt.ioff()\n",
    "fig = plt.figure()\n",
    "fig.canvas.header_visible = False"
   ]
  },
  {
   "cell_type": "code",
   "execution_count": null,
   "metadata": {},
   "outputs": [],
   "source": [
    "def on_data_change(change):\n",
    "    lbl_img.value = ''\n",
    "    file_path = fc.selected\n",
    "    data = tem.TEMDataset(file_names=[file_path])\n",
    "    img_data, metadata = data[0]\n",
    "    \n",
    "    display(plt.imshow(np.asarray(img_data)))\n",
    "    plt.show()\n",
    "    lbl_img.value = f'File: {metadata[\"name\"]}; Units: {metadata[\"units\"]}'\n",
    "    fig.canvas.draw()\n",
    "    fig.canvas.flush_events()"
   ]
  },
  {
   "cell_type": "code",
   "execution_count": null,
   "metadata": {},
   "outputs": [],
   "source": [
    "fc.register_callback(on_data_change)"
   ]
  },
  {
   "cell_type": "code",
   "execution_count": null,
   "metadata": {},
   "outputs": [],
   "source": [
    "widgets.AppLayout(header=fc, center=fig.canvas, footer=lbl_img)"
   ]
  },
  {
   "cell_type": "markdown",
   "metadata": {},
   "source": [
    "## 2 Analysis"
   ]
  },
  {
   "cell_type": "code",
   "execution_count": null,
   "metadata": {},
   "outputs": [],
   "source": [
    "button = widgets.Button(description=\"Segment Image\")\n",
    "output = widgets.Output()\n",
    "display(widgets.VBox([button, output]))\n",
    "\n",
    "def on_button_clicked(b):\n",
    "    with output:\n",
    "        if fc.selected is not None:\n",
    "            file_path = fc.selected\n",
    "            data = tem.TEMDataset(file_names=[file_path])\n",
    "            image, metadata = data[0]\n",
    "            regionlist, label_image, im_overlay = binary_segment(((image - np.amin(image))/(np.amax(image)-np.amin(image))), 0.01)\n",
    "            labelmask = np.zeros(label_image.shape)\n",
    "            labelmask[label_image > 0] = 1\n",
    "\n",
    "            arealist = []\n",
    "            for ri, region in enumerate(regionlist):\n",
    "\n",
    "                if region.area < 500:\n",
    "                    arealist.append(region.area)\n",
    "\n",
    "            saveprops = ['area', 'bbox','centroid', 'coords', 'equivalent_diameter', 'label', 'perimeter']\n",
    "            regiontable = regionprops_table(label_image, properties = saveprops)\n",
    "            plt.imshow(im_overlay)\n",
    "            plt.show()\n",
    "        \n",
    "            hist_fig = go.Figure(data=[go.Histogram(x=arealist)])\n",
    "            hist_fig.update_layout(xaxis_title=\"Particle size (%s)\" % metadata[\"units\"],\n",
    "                                  yaxis_title=\"Count\")\n",
    "            hist_fig.show()\n",
    "        else:\n",
    "            raise ValueError(\"Must upload data before segmentation!\")\n",
    "\n",
    "button.on_click(on_button_clicked)"
   ]
  },
  {
   "cell_type": "markdown",
   "metadata": {},
   "source": [
    "## 3 Modeling"
   ]
  },
  {
   "cell_type": "markdown",
   "metadata": {},
   "source": [
    "## 4 Results"
   ]
  },
  {
   "cell_type": "code",
   "execution_count": null,
   "metadata": {},
   "outputs": [],
   "source": []
  }
 ],
 "metadata": {
  "kernelspec": {
   "display_name": "VoilaEnv",
   "language": "python",
   "name": "voilaenv"
  },
  "language_info": {
   "codemirror_mode": {
    "name": "ipython",
    "version": 3
   },
   "file_extension": ".py",
   "mimetype": "text/x-python",
   "name": "python",
   "nbconvert_exporter": "python",
   "pygments_lexer": "ipython3",
   "version": "3.8.3"
  }
 },
 "nbformat": 4,
 "nbformat_minor": 4
}
